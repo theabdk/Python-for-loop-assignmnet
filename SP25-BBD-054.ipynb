{
 "cells": [
  {
   "cell_type": "code",
   "execution_count": null,
   "id": "142bfdd9-4e7e-42b6-87bd-0160de975030",
   "metadata": {},
   "outputs": [],
   "source": [
    "# Muhammad Abdullah Khan\n",
    "# Roll No 054"
   ]
  },
  {
   "cell_type": "code",
   "execution_count": 2,
   "id": "0dabb238-04bc-440c-8654-e4ef99313fdd",
   "metadata": {},
   "outputs": [
    {
     "name": "stdout",
     "output_type": "stream",
     "text": [
      "2\n",
      "4\n",
      "6\n",
      "8\n",
      "10\n",
      "12\n",
      "14\n",
      "16\n",
      "18\n",
      "20\n"
     ]
    }
   ],
   "source": [
    "# Q1. Write a for loop to print all even numbers from 2 to 20.\n",
    "\n",
    "numbers=range(2,22,2)\n",
    "for num in numbers:\n",
    "    print(num)\n",
    "    "
   ]
  },
  {
   "cell_type": "code",
   "execution_count": 4,
   "id": "d5fd194f-9fdd-4ee9-8831-25a6f317c072",
   "metadata": {},
   "outputs": [
    {
     "name": "stdout",
     "output_type": "stream",
     "text": [
      "ALI\n",
      "SAAD\n",
      "SUBHAN\n",
      "ASAD\n",
      "SAIM\n"
     ]
    }
   ],
   "source": [
    "#Q2. Create a list of names and use a for loop to print each name in uppercase.\n",
    "\n",
    "list=['ali','saad','subhan','asad','saim']\n",
    "for names in list:\n",
    "    print(names.upper())\n",
    "    "
   ]
  },
  {
   "cell_type": "code",
   "execution_count": 6,
   "id": "6a6fdad5-7d04-4825-9a25-997714897d30",
   "metadata": {},
   "outputs": [
    {
     "name": "stdout",
     "output_type": "stream",
     "text": [
      "10\n",
      "9\n",
      "8\n",
      "7\n",
      "6\n",
      "5\n",
      "4\n",
      "3\n",
      "2\n",
      "1\n"
     ]
    }
   ],
   "source": [
    "#Q3. Use a for loop with range() to print numbers from 10 to 1 in reverse order.\n",
    "\n",
    "numbers=range(10,0,-1)\n",
    "for num in numbers:\n",
    "    print(num)\n",
    "    "
   ]
  },
  {
   "cell_type": "code",
   "execution_count": 8,
   "id": "42d0bdb6-12e8-49ba-95cf-1e1b8abadf35",
   "metadata": {},
   "outputs": [
    {
     "name": "stdout",
     "output_type": "stream",
     "text": [
      "3\n",
      "9\n",
      "15\n",
      "18\n",
      "21\n"
     ]
    }
   ],
   "source": [
    "#Q4. Iterate through a list of integers and print only the numbers that are divisible by 3.\n",
    "\n",
    "list=[2,3,5,7,9,11,15,16,18,21]\n",
    "for num in list:\n",
    "    if num%3==0:\n",
    "        print(num)\n",
    "        "
   ]
  },
  {
   "cell_type": "code",
   "execution_count": 10,
   "id": "3ff663b9-eb8a-493e-ab01-abab926bf791",
   "metadata": {},
   "outputs": [
    {
     "name": "stdout",
     "output_type": "stream",
     "text": [
      "1\n",
      "4\n",
      "9\n",
      "16\n",
      "25\n",
      "36\n",
      "49\n",
      "64\n",
      "81\n",
      "100\n"
     ]
    }
   ],
   "source": [
    "#Q5. Write a loop that prints the squares of numbers from 1 to 10.\n",
    "\n",
    "squares=[1,2,3,4,5,6,7,8,9,10]\n",
    "for value in range(1,11):\n",
    "    square=value**2\n",
    "    print(square)\n",
    "    "
   ]
  },
  {
   "cell_type": "code",
   "execution_count": 12,
   "id": "462add83-9aaa-4baf-b3fa-9dbc87437c48",
   "metadata": {},
   "outputs": [
    {
     "name": "stdout",
     "output_type": "stream",
     "text": [
      "0°C is equal to 32.0°F\n",
      "15°C is equal to 59.0°F\n",
      "25°C is equal to 77.0°F\n",
      "30°C is equal to 86.0°F\n"
     ]
    }
   ],
   "source": [
    "#Q6. Given a list of temperatures in Celsius, use a for loop to convert each to Fahrenheit.\n",
    "\n",
    "celcius_temp=[0,15,25,30]\n",
    "for temp_c in celcius_temp:\n",
    "    temp_f=(temp_c*9/5)+32\n",
    "    print(f\"{temp_c}°C is equal to {temp_f}°F\")\n",
    "    "
   ]
  },
  {
   "cell_type": "code",
   "execution_count": 14,
   "id": "eec307e6-0337-44ce-8962-c4988eee2042",
   "metadata": {},
   "outputs": [
    {
     "name": "stdout",
     "output_type": "stream",
     "text": [
      "5 x 1 = 5\n",
      "5 x 2 = 10\n",
      "5 x 3 = 15\n",
      "5 x 4 = 20\n",
      "5 x 5 = 25\n",
      "5 x 6 = 30\n",
      "5 x 7 = 35\n",
      "5 x 8 = 40\n",
      "5 x 9 = 45\n",
      "5 x 10 = 50\n"
     ]
    }
   ],
   "source": [
    "#Q7. Create a for loop that prints the multiplication table of 5.\n",
    "\n",
    "for value in range(1, 11):\n",
    "    multiply= value*5\n",
    "    print(f\"5 x {value} = {multiply}\")\n",
    "    "
   ]
  },
  {
   "cell_type": "code",
   "execution_count": 16,
   "id": "92ead123-445c-42c7-9e75-42efedcd1f8c",
   "metadata": {},
   "outputs": [
    {
     "name": "stdout",
     "output_type": "stream",
     "text": [
      "47\n"
     ]
    }
   ],
   "source": [
    "#Q8. Write a program to find the sum of all numbers in a list using a for loop.\n",
    "\n",
    "numbers = [3, 7, 12, 5, 9, 11]\n",
    "total = 0\n",
    "for num in numbers:\n",
    "    total += num\n",
    "print(total)\n"
   ]
  },
  {
   "cell_type": "code",
   "execution_count": 18,
   "id": "4e59df2c-62d4-45bd-bd7c-2409a49c7867",
   "metadata": {},
   "outputs": [
    {
     "name": "stdout",
     "output_type": "stream",
     "text": [
      "A\n",
      "b\n",
      "d\n",
      "u\n",
      "l\n",
      "l\n",
      "a\n",
      "h\n"
     ]
    }
   ],
   "source": [
    "# Q9. Use a for loop to iterate through a string and print each character separately.\n",
    "\n",
    "text = \"Abdullah\"\n",
    "for char in text:\n",
    "    print(char)\n",
    "    "
   ]
  },
  {
   "cell_type": "code",
   "execution_count": 20,
   "id": "d182caf4-fcc7-4f4a-9e1e-3c5300a72190",
   "metadata": {},
   "outputs": [
    {
     "name": "stdout",
     "output_type": "stream",
     "text": [
      "banana\n",
      "cherry\n",
      "strawberry\n"
     ]
    }
   ],
   "source": [
    "#Q10. Create a list of words and use a for loop to print only the words with more than 5 letters.\n",
    "\n",
    "words = [\"apple\", \"banana\", \"cherry\", \"kiwi\", \"strawberry\", \"grape\"]\n",
    "for word in words:\n",
    "    if len(word) > 5:\n",
    "        print(word)\n",
    "        "
   ]
  }
 ],
 "metadata": {
  "kernelspec": {
   "display_name": "Python [conda env:base] *",
   "language": "python",
   "name": "conda-base-py"
  },
  "language_info": {
   "codemirror_mode": {
    "name": "ipython",
    "version": 3
   },
   "file_extension": ".py",
   "mimetype": "text/x-python",
   "name": "python",
   "nbconvert_exporter": "python",
   "pygments_lexer": "ipython3",
   "version": "3.12.7"
  }
 },
 "nbformat": 4,
 "nbformat_minor": 5
}
